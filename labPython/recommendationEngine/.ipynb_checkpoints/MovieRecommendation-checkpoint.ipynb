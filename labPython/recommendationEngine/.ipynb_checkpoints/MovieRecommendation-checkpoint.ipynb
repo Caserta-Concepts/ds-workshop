{
 "cells": [
  {
   "cell_type": "code",
   "execution_count": 1,
   "metadata": {
    "collapsed": false
   },
   "outputs": [],
   "source": [
    "import pandas as pd\n",
    "import numpy as np"
   ]
  },
  {
   "cell_type": "code",
   "execution_count": 2,
   "metadata": {
    "collapsed": false
   },
   "outputs": [],
   "source": [
    "path = 'ml-100k/'\n",
    "ratings_file = 'u.data'\n",
    "movies_files = 'u.item'"
   ]
  },
  {
   "cell_type": "markdown",
   "metadata": {},
   "source": [
    "##Data Description"
   ]
  },
  {
   "cell_type": "markdown",
   "metadata": {},
   "source": [
    "The dataset comprises of movie ratings.\n",
    "MovieLens was developed by the GroupLens project at the University of Minnesota.\n",
    "You can download the dataset from http://www.grouplens.org/node/12. There are two\n",
    "datasets here. In this tutorial we have used a dataset containing 100,000 movie ratings."
   ]
  },
  {
   "cell_type": "code",
   "execution_count": 3,
   "metadata": {
    "collapsed": false
   },
   "outputs": [],
   "source": [
    "def loadMovieLens(path):\n",
    "    # Get movie titles\n",
    "    movies={}\n",
    "    for line in open(path+movies_files):\n",
    "        (id,title)=line.split('|')[0:2]\n",
    "        movies[id]=title\n",
    "    # Load data\n",
    "    dataset={}\n",
    "    for line in open(path+ratings_file):\n",
    "        (user,movieid,rating,ts)=line.split('\\t')\n",
    "        dataset.setdefault(user,{})\n",
    "        dataset[user][movies[movieid]]=float(rating)\n",
    "    return dataset"
   ]
  },
  {
   "cell_type": "markdown",
   "metadata": {},
   "source": [
    "The dataset is contains each user_id as a key and each record is represented as **{'USER_ID': {'movie1': rating1, 'movie2': rating2,.....,'movieN': ratingN}**"
   ]
  },
  {
   "cell_type": "code",
   "execution_count": 4,
   "metadata": {
    "collapsed": false
   },
   "outputs": [],
   "source": [
    "dataset=loadMovieLens(path)"
   ]
  },
  {
   "cell_type": "markdown",
   "metadata": {},
   "source": [
    "**Movies rated by user id 88**"
   ]
  },
  {
   "cell_type": "code",
   "execution_count": 5,
   "metadata": {
    "collapsed": false
   },
   "outputs": [
    {
     "data": {
      "text/plain": [
       "{'Air Bud (1997)': 5.0,\n",
       " 'Air Force One (1997)': 3.0,\n",
       " 'Amistad (1997)': 2.0,\n",
       " 'Apt Pupil (1998)': 4.0,\n",
       " 'English Patient, The (1996)': 5.0,\n",
       " 'Everyone Says I Love You (1996)': 3.0,\n",
       " 'FairyTale: A True Story (1997)': 4.0,\n",
       " 'G.I. Jane (1997)': 5.0,\n",
       " 'In & Out (1997)': 4.0,\n",
       " 'L.A. Confidential (1997)': 3.0,\n",
       " 'Letter From Death Row, A (1998)': 5.0,\n",
       " 'Life Less Ordinary, A (1997)': 5.0,\n",
       " 'Ma vie en rose (My Life in Pink) (1997)': 5.0,\n",
       " 'Money Talks (1997)': 5.0,\n",
       " 'Mother (1996)': 1.0,\n",
       " 'Postman, The (1997)': 4.0,\n",
       " 'Seven Years in Tibet (1997)': 4.0,\n",
       " 'Soul Food (1997)': 3.0,\n",
       " 'Titanic (1997)': 3.0,\n",
       " 'Wedding Singer, The (1998)': 5.0,\n",
       " 'Wings of the Dove, The (1997)': 5.0}"
      ]
     },
     "execution_count": 5,
     "metadata": {},
     "output_type": "execute_result"
    }
   ],
   "source": [
    "dataset['88']"
   ]
  },
  {
   "cell_type": "markdown",
   "metadata": {},
   "source": [
    "##Collaborative filtering\n",
    "###Predict an individuals preference based on their peers ratings.\n",
    "A collaborative filtering algorithm searches a large group of users and find people with similar tastes as you. An algorithm does this by comparing each person with every other person in the dataset and calculating a similarity score. There are different ways to compute a similarity score as mentioned [here](http://en.wikipedia.org/wiki/Metric_%28mathematics%29#Examples). The metrics we have used is know as ***Euclidian Distance***."
   ]
  },
  {
   "cell_type": "markdown",
   "metadata": {},
   "source": [
    "###Calculate Euclidian Distance"
   ]
  },
  {
   "cell_type": "code",
   "execution_count": 6,
   "metadata": {
    "collapsed": true
   },
   "outputs": [],
   "source": [
    "from math import sqrt\n",
    "# Returns a distance-based similarity score for person1 and person2\n",
    "def sim_distance(prefs,person1,person2):\n",
    "    # Get the list of shared_items\n",
    "    si={}\n",
    "    for item in prefs[person1]:\n",
    "        if item in prefs[person2]:\n",
    "            si[item]=1\n",
    "    # if they have no ratings in common, return 0\n",
    "    if len(si)==0: return 0\n",
    "    # Add up the squares of all the differences\n",
    "    sum_of_squares=sum([pow(prefs[person1][item]-prefs[person2][item],2)\n",
    "        for item in prefs[person1] if item in prefs[person2]])\n",
    "    return 1/(1+sum_of_squares)"
   ]
  },
  {
   "cell_type": "markdown",
   "metadata": {},
   "source": [
    "### Returns the best matches for person from the dataset"
   ]
  },
  {
   "cell_type": "code",
   "execution_count": 7,
   "metadata": {
    "collapsed": false
   },
   "outputs": [],
   "source": [
    "# Number of results and similarity function are optional params.\n",
    "def topMatches(prefs,person,n=5):\n",
    "    scores=[(sim_distance(prefs,person,other),other) for other in prefs if other!=person]\n",
    "    # Sort the list so the highest scores appear at the top\n",
    "    scores.sort()\n",
    "    scores.reverse()\n",
    "    return scores[0:n]"
   ]
  },
  {
   "cell_type": "markdown",
   "metadata": {
    "collapsed": false
   },
   "source": [
    "###Gets recommendations for a person by using a weighted average of every other user's rankings"
   ]
  },
  {
   "cell_type": "code",
   "execution_count": 8,
   "metadata": {
    "collapsed": false
   },
   "outputs": [],
   "source": [
    "\n",
    "def getRecommendations(prefs,person):\n",
    "    totals={}\n",
    "    simSums={}\n",
    "    for other in prefs:\n",
    "        # don't compare me to myself\n",
    "        if other==person: continue\n",
    "        sim=sim_distance(prefs,person,other)\n",
    "\n",
    "        # ignore scores of 0 or lower\n",
    "        if sim<=0: continue\n",
    "        for item in prefs[other]:\n",
    "\n",
    "            # only score movies I haven't seen yet\n",
    "            if item not in prefs[person] or prefs[person][item]==0:\n",
    "            # Similarity * Score\n",
    "                totals.setdefault(item,0)\n",
    "                totals[item]+=prefs[other][item]*sim\n",
    "                # Sum of similarities\n",
    "                simSums.setdefault(item,0)\n",
    "                simSums[item]+=sim\n",
    "\n",
    "            # Create the normalized list\n",
    "            rankings=[(total/simSums[item],item) for item,total in totals.items()]\n",
    "\n",
    "            # Return the sorted list\n",
    "            rankings.sort()\n",
    "            rankings.reverse()\n",
    "    return rankings"
   ]
  },
  {
   "cell_type": "markdown",
   "metadata": {},
   "source": [
    "#####Note : Execution of below command will take few minutes"
   ]
  },
  {
   "cell_type": "code",
   "execution_count": 10,
   "metadata": {
    "collapsed": false
   },
   "outputs": [],
   "source": [
    "collaborative_recommendations = getRecommendations(dataset,'88')\n"
   ]
  },
  {
   "cell_type": "markdown",
   "metadata": {},
   "source": [
    "###Top 10 recommendations for userid 88 based on ratings by other users similar to it. "
   ]
  },
  {
   "cell_type": "code",
   "execution_count": 11,
   "metadata": {
    "collapsed": false
   },
   "outputs": [
    {
     "data": {
      "text/plain": [
       "[(5.000000000000001, 'Tough and Deadly (1995)'),\n",
       " (5.0, 'They Made Me a Criminal (1939)'),\n",
       " (5.0, 'Star Kid (1997)'),\n",
       " (5.0, \"Someone Else's America (1995)\"),\n",
       " (5.0, 'Santa with Muscles (1996)'),\n",
       " (5.0, 'Saint of Fort Washington, The (1993)'),\n",
       " (5.0, 'Prefontaine (1997)'),\n",
       " (5.0, 'Marlene Dietrich: Shadow and Light (1996) '),\n",
       " (5.0, 'Great Day in Harlem, A (1994)'),\n",
       " (5.0, 'Entertaining Angels: The Dorothy Day Story (1996)')]"
      ]
     },
     "execution_count": 11,
     "metadata": {},
     "output_type": "execute_result"
    }
   ],
   "source": [
    "collaborative_recommendations[:10]"
   ]
  },
  {
   "cell_type": "markdown",
   "metadata": {},
   "source": [
    "####Now you know how to find similar people and recommend movies for a given person, but what if you want to see which movies are similar to each other?\n",
    "In this case, you can determine similarity by looking at who liked a particular movie and seeing the other things they liked. This is actually the same method we used earlier to determine similarity between users you just need to swap the users and the movies."
   ]
  },
  {
   "cell_type": "code",
   "execution_count": 12,
   "metadata": {
    "collapsed": true
   },
   "outputs": [],
   "source": [
    "def transformPrefs(prefs):\n",
    "    result={}\n",
    "    for person in prefs:\n",
    "        for item in prefs[person]:\n",
    "            result.setdefault(item,{})\n",
    "            # Flip item and person\n",
    "            result[item][person]=prefs[person][item]\n",
    "    return result"
   ]
  },
  {
   "cell_type": "markdown",
   "metadata": {
    "collapsed": false
   },
   "source": [
    "This function first inverts the score dictionary using the transformPrefs function defined earlier, giving a list of movies along with how they were rated by each user. It then loops over every movie and passes the transformed dictionary to the topMatches function to get the most similar movies along with their similarity scores. Finally, it creates and returns a dictionary of movies along with a list of their most similar movies."
   ]
  },
  {
   "cell_type": "code",
   "execution_count": 13,
   "metadata": {
    "collapsed": true
   },
   "outputs": [],
   "source": [
    "def calculateSimilarItems(prefs,n=10):\n",
    "    # Create a dictionary of items showing which other items they\n",
    "    # are most similar to.\n",
    "    result={}\n",
    "    # Invert the preference matrix to be item-centric\n",
    "    itemPrefs=transformPrefs(prefs)\n",
    "    c=0\n",
    "    for item in itemPrefs:\n",
    "        # Status updates for large datasets\n",
    "        c+=1\n",
    "        if c%100==0: print \"%d / %d\" % (c,len(itemPrefs))\n",
    "            # Find the most similar items to this one\n",
    "        scores=topMatches(itemPrefs,item,n=n)\n",
    "        result[item]=scores\n",
    "    return result"
   ]
  },
  {
   "cell_type": "code",
   "execution_count": 14,
   "metadata": {
    "collapsed": false
   },
   "outputs": [
    {
     "name": "stdout",
     "output_type": "stream",
     "text": [
      "100 / 1664\n",
      "200 / 1664\n",
      "300 / 1664\n",
      "400 / 1664\n",
      "500 / 1664\n",
      "600 / 1664\n",
      "700 / 1664\n",
      "800 / 1664\n",
      "900 / 1664\n",
      "1000 / 1664\n",
      "1100 / 1664\n",
      "1200 / 1664\n",
      "1300 / 1664\n",
      "1400 / 1664\n",
      "1500 / 1664\n",
      "1600 / 1664\n"
     ]
    }
   ],
   "source": [
    "itemsim=calculateSimilarItems(dataset)"
   ]
  },
  {
   "cell_type": "markdown",
   "metadata": {
    "collapsed": false
   },
   "source": [
    "Now we're going to get all the items that the user has ranked, find the similar items, and weight them according to how similar they are."
   ]
  },
  {
   "cell_type": "code",
   "execution_count": 15,
   "metadata": {
    "collapsed": false
   },
   "outputs": [],
   "source": [
    "def getRecommendedItems(prefs,itemMatch,user):\n",
    "    userRatings=prefs[user]\n",
    "    scores={}\n",
    "    totalSim={}\n",
    "    \n",
    "    # Loop over items rated by this user\n",
    "    for (item,rating) in userRatings.items( ):\n",
    "        \n",
    "        # Loop over items similar to this one\n",
    "        for (similarity,item2) in itemMatch[item]:\n",
    "            \n",
    "            # Ignore if this user has already rated this item\n",
    "            if item2 in userRatings: continue\n",
    "\n",
    "            # Weighted sum of rating times similarity\n",
    "            scores.setdefault(item2,0)\n",
    "            scores[item2]+=similarity*rating\n",
    "            # Sum of all the similarities\n",
    "            totalSim.setdefault(item2,0)\n",
    "            totalSim[item2]+=similarity\n",
    "    # Divide each total score by total weighting to get an average\n",
    "    rankings=[(score/totalSim[item],item) for item,score in scores.items( )]\n",
    "    \n",
    "    # Return the rankings from highest to lowest\n",
    "    rankings.sort( )\n",
    "    rankings.reverse( )\n",
    "    return rankings"
   ]
  },
  {
   "cell_type": "markdown",
   "metadata": {},
   "source": [
    "###Top 10 recommendations for userid 88 based on precomputed most similar items for each item rated by the user."
   ]
  },
  {
   "cell_type": "code",
   "execution_count": 16,
   "metadata": {
    "collapsed": false
   },
   "outputs": [
    {
     "data": {
      "text/plain": [
       "[(5.0, 'Women, The (1939)'),\n",
       " (5.0, 'Wishmaster (1997)'),\n",
       " (5.0, 'Winter Guest, The (1997)'),\n",
       " (5.0, 'Wild America (1997)'),\n",
       " (5.0, \"Widows' Peak (1994)\"),\n",
       " (5.0, 'White Balloon, The (1995)'),\n",
       " (5.0, 'When We Were Kings (1996)'),\n",
       " (5.0, \"Wend Kuuni (God's Gift) (1982)\"),\n",
       " (5.0, 'Welcome To Sarajevo (1997)'),\n",
       " (5.0, 'Walking and Talking (1996)')]"
      ]
     },
     "execution_count": 16,
     "metadata": {},
     "output_type": "execute_result"
    }
   ],
   "source": [
    "getRecommendedItems(dataset,itemsim,'88')[:10]"
   ]
  }
 ],
 "metadata": {
  "kernelspec": {
   "display_name": "Python 2",
   "language": "python",
   "name": "python2"
  },
  "language_info": {
   "codemirror_mode": {
    "name": "ipython",
    "version": 2
   },
   "file_extension": ".py",
   "mimetype": "text/x-python",
   "name": "python",
   "nbconvert_exporter": "python",
   "pygments_lexer": "ipython2",
   "version": "2.7.9"
  }
 },
 "nbformat": 4,
 "nbformat_minor": 0
}
