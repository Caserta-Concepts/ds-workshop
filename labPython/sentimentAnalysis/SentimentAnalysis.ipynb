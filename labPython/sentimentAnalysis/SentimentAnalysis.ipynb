{
 "cells": [
  {
   "cell_type": "markdown",
   "metadata": {},
   "source": [
    "#Sentiment Analysis on Movie Reviews"
   ]
  },
  {
   "cell_type": "code",
   "execution_count": 1,
   "metadata": {
    "collapsed": true
   },
   "outputs": [],
   "source": [
    "import pandas as pd\n",
    "import numpy as np\n"
   ]
  },
  {
   "cell_type": "code",
   "execution_count": 4,
   "metadata": {
    "collapsed": true
   },
   "outputs": [],
   "source": [
    "path = 'data/'\n",
    "file_train = 'traindata.tsv'\n",
    "file_test = 'testdata.tsv'"
   ]
  },
  {
   "cell_type": "code",
   "execution_count": 5,
   "metadata": {
    "collapsed": false
   },
   "outputs": [],
   "source": [
    "train = pd.read_csv(path+file_train, error_bad_lines=False, sep = '\\t')\n",
    "test = pd.read_csv(path+file_test, error_bad_lines=False, sep = '\\t')\n"
   ]
  },
  {
   "cell_type": "markdown",
   "metadata": {},
   "source": [
    "The dataset is comprised of tab-separated files with phrases from the Rotten Tomatoes dataset. Each Sentence has been parsed into many phrases by the Stanford parser. Each phrase has a PhraseId. Each sentence has a SentenceId. Phrases that are repeated (such as short/common words) are only included once in the data.\n",
    "\n",
    "train.tsv and test.csv contains the phrases and their associated sentiment labels.\n",
    "\n",
    "The sentiment labels are:\n",
    "\n",
    "0 - negative\n",
    "1 - somewhat negative\n",
    "2 - neutral\n",
    "3 - somewhat positive\n",
    "4 - positive"
   ]
  },
  {
   "cell_type": "code",
   "execution_count": 6,
   "metadata": {
    "collapsed": false
   },
   "outputs": [
    {
     "data": {
      "text/html": [
       "<div style=\"max-height:1000px;max-width:1500px;overflow:auto;\">\n",
       "<table border=\"1\" class=\"dataframe\">\n",
       "  <thead>\n",
       "    <tr style=\"text-align: right;\">\n",
       "      <th></th>\n",
       "      <th>PhraseId</th>\n",
       "      <th>SentenceId</th>\n",
       "      <th>Phrase</th>\n",
       "      <th>Sentiment</th>\n",
       "    </tr>\n",
       "  </thead>\n",
       "  <tbody>\n",
       "    <tr>\n",
       "      <th>124843</th>\n",
       "      <td>46527</td>\n",
       "      <td>2263</td>\n",
       "      <td>the four main actresses</td>\n",
       "      <td>2</td>\n",
       "    </tr>\n",
       "    <tr>\n",
       "      <th>124844</th>\n",
       "      <td>140751</td>\n",
       "      <td>7636</td>\n",
       "      <td>hang together</td>\n",
       "      <td>2</td>\n",
       "    </tr>\n",
       "    <tr>\n",
       "      <th>124845</th>\n",
       "      <td>88481</td>\n",
       "      <td>4598</td>\n",
       "      <td>, the score is too insistent</td>\n",
       "      <td>1</td>\n",
       "    </tr>\n",
       "    <tr>\n",
       "      <th>124846</th>\n",
       "      <td>37285</td>\n",
       "      <td>1770</td>\n",
       "      <td>is either</td>\n",
       "      <td>2</td>\n",
       "    </tr>\n",
       "    <tr>\n",
       "      <th>124847</th>\n",
       "      <td>15739</td>\n",
       "      <td>675</td>\n",
       "      <td>gets you riled up</td>\n",
       "      <td>3</td>\n",
       "    </tr>\n",
       "  </tbody>\n",
       "</table>\n",
       "</div>"
      ],
      "text/plain": [
       "        PhraseId  SentenceId                        Phrase  Sentiment\n",
       "124843     46527        2263       the four main actresses          2\n",
       "124844    140751        7636                 hang together          2\n",
       "124845     88481        4598  , the score is too insistent          1\n",
       "124846     37285        1770                     is either          2\n",
       "124847     15739         675             gets you riled up          3"
      ]
     },
     "execution_count": 6,
     "metadata": {},
     "output_type": "execute_result"
    }
   ],
   "source": [
    "train.tail()"
   ]
  },
  {
   "cell_type": "code",
   "execution_count": 7,
   "metadata": {
    "collapsed": false
   },
   "outputs": [
    {
     "data": {
      "text/html": [
       "<div style=\"max-height:1000px;max-width:1500px;overflow:auto;\">\n",
       "<table border=\"1\" class=\"dataframe\">\n",
       "  <thead>\n",
       "    <tr style=\"text-align: right;\">\n",
       "      <th></th>\n",
       "      <th>PhraseId</th>\n",
       "      <th>SentenceId</th>\n",
       "      <th>Phrase</th>\n",
       "      <th>Sentiment</th>\n",
       "    </tr>\n",
       "  </thead>\n",
       "  <tbody>\n",
       "    <tr>\n",
       "      <th>31207</th>\n",
       "      <td>49227</td>\n",
       "      <td>2407</td>\n",
       "      <td>technical skill and rare depth</td>\n",
       "      <td>4</td>\n",
       "    </tr>\n",
       "    <tr>\n",
       "      <th>31208</th>\n",
       "      <td>62407</td>\n",
       "      <td>3154</td>\n",
       "      <td>genuinely engaging performers</td>\n",
       "      <td>4</td>\n",
       "    </tr>\n",
       "    <tr>\n",
       "      <th>31209</th>\n",
       "      <td>114834</td>\n",
       "      <td>6113</td>\n",
       "      <td>served up</td>\n",
       "      <td>2</td>\n",
       "    </tr>\n",
       "    <tr>\n",
       "      <th>31210</th>\n",
       "      <td>135545</td>\n",
       "      <td>7319</td>\n",
       "      <td>post-modern</td>\n",
       "      <td>2</td>\n",
       "    </tr>\n",
       "    <tr>\n",
       "      <th>31211</th>\n",
       "      <td>91212</td>\n",
       "      <td>4745</td>\n",
       "      <td>a stark portrait of motherhood deferred and de...</td>\n",
       "      <td>3</td>\n",
       "    </tr>\n",
       "  </tbody>\n",
       "</table>\n",
       "</div>"
      ],
      "text/plain": [
       "       PhraseId  SentenceId  \\\n",
       "31207     49227        2407   \n",
       "31208     62407        3154   \n",
       "31209    114834        6113   \n",
       "31210    135545        7319   \n",
       "31211     91212        4745   \n",
       "\n",
       "                                                  Phrase  Sentiment  \n",
       "31207                     technical skill and rare depth          4  \n",
       "31208                      genuinely engaging performers          4  \n",
       "31209                                          served up          2  \n",
       "31210                                        post-modern          2  \n",
       "31211  a stark portrait of motherhood deferred and de...          3  "
      ]
     },
     "execution_count": 7,
     "metadata": {},
     "output_type": "execute_result"
    }
   ],
   "source": [
    "test.tail()"
   ]
  },
  {
   "cell_type": "markdown",
   "metadata": {},
   "source": [
    "##Extracting words from phrases"
   ]
  },
  {
   "cell_type": "code",
   "execution_count": 8,
   "metadata": {
    "collapsed": true
   },
   "outputs": [],
   "source": [
    "import re\n",
    "def grab_words(sentence):\n",
    "    str_extract = re.findall(r'\\w+', sentence)\n",
    "    return ' '.join(str_extract).lower()"
   ]
  },
  {
   "cell_type": "markdown",
   "metadata": {},
   "source": [
    "#####Creating a new column in the data frame to store all the formatted phrases"
   ]
  },
  {
   "cell_type": "code",
   "execution_count": 9,
   "metadata": {
    "collapsed": false
   },
   "outputs": [],
   "source": [
    "train['formatted_sentence'] = train.Phrase.apply(grab_words)\n",
    "test['formatted_sentence'] = test.Phrase.apply(grab_words)\n"
   ]
  },
  {
   "cell_type": "markdown",
   "metadata": {},
   "source": [
    "## Creating tf-idf and removal of stop words"
   ]
  },
  {
   "cell_type": "markdown",
   "metadata": {},
   "source": [
    "tf–idf, short for term frequency–inverse document frequency, is a numerical statistic that is intended to reflect how important a word is to a document in a collection or corpus.\n",
    "\n",
    "The tf-idf value increases proportionally to the number of times a word appears in the document, but is offset by the frequency of the word in the corpus, which helps to adjust for the fact that some words appear more frequently in general.\n",
    "\n",
    "We also eliminate stop words, which are words which are filtered out before or after processing of natural language data (text). Any group of words can be chosen as the stop words for a given purpose. In this case, stop words can cause problems when searching for phrases therefore we have used buitin stop words of english present in scikit learn."
   ]
  },
  {
   "cell_type": "code",
   "execution_count": 10,
   "metadata": {
    "collapsed": false
   },
   "outputs": [],
   "source": [
    "from sklearn.feature_extraction.text import TfidfVectorizer\n",
    "tfidf_generator = TfidfVectorizer(stop_words='english',\n",
    "                              use_idf = True,\n",
    "                              ngram_range = (0,4),\n",
    "                              min_df = 1\n",
    "                             )\n",
    "train_transformed = tfidf_generator.fit_transform(train.formatted_sentence.as_matrix())\n",
    "test_transformed = tfidf_generator.transform(test.formatted_sentence.as_matrix())\n",
    "train_sentiment = train.Sentiment.as_matrix()\n",
    "test_sentiment = test.Sentiment.as_matrix()"
   ]
  },
  {
   "cell_type": "markdown",
   "metadata": {},
   "source": [
    "**print tfidf_generator.vocabulary - can be used to know which token is used as what column feature in the output matrix**. For example from the below snippet it can be seen that **care cleverness wit** is column feature **19163** for our dataset.\n",
    "\n",
    "{u'': 0, u'90 minute film unfortunately': 839, **u'care cleverness wit': 19163**, u'funny albeit superficial cautionary': 62256, u'thriller directorial debut': 157832, u'bodies hardly laugh': 14942, u'hour photo disappointing generalities': 73674, u'woods': 173298, u'clotted': 25055, u'woody': 173299,"
   ]
  },
  {
   "cell_type": "markdown",
   "metadata": {},
   "source": [
    "**The train and test data are transformed into datasets with 176159 feature, each feature representing a bag of word**"
   ]
  },
  {
   "cell_type": "code",
   "execution_count": 11,
   "metadata": {
    "collapsed": false
   },
   "outputs": [
    {
     "data": {
      "text/plain": [
       "<124848x176288 sparse matrix of type '<type 'numpy.float64'>'\n",
       "\twith 1345597 stored elements in Compressed Sparse Row format>"
      ]
     },
     "execution_count": 11,
     "metadata": {},
     "output_type": "execute_result"
    }
   ],
   "source": [
    "train_transformed"
   ]
  },
  {
   "cell_type": "code",
   "execution_count": 12,
   "metadata": {
    "collapsed": false
   },
   "outputs": [
    {
     "data": {
      "text/plain": [
       "<31212x176288 sparse matrix of type '<type 'numpy.float64'>'\n",
       "\twith 332471 stored elements in Compressed Sparse Row format>"
      ]
     },
     "execution_count": 12,
     "metadata": {},
     "output_type": "execute_result"
    }
   ],
   "source": [
    "test_transformed"
   ]
  },
  {
   "cell_type": "markdown",
   "metadata": {},
   "source": [
    "##Predicting the sentiment using LinearSVC model\n",
    "The objective of a Linear SVC (Support Vector Classifier) is to fit to the data you provide, returning a \"best fit\" hyperplane that divides, or categorizes, your data. From there, after getting the hyperplane, you can then feed some features to your classifier to see what the \"predicted\" class is. This makes this specific algorithm rather suitable for our uses, though you can use this for many situations."
   ]
  },
  {
   "cell_type": "code",
   "execution_count": 13,
   "metadata": {
    "collapsed": false
   },
   "outputs": [
    {
     "data": {
      "text/plain": [
       "LinearSVC(C=1.0, class_weight=None, dual=False, fit_intercept=True,\n",
       "     intercept_scaling=1, loss='squared_hinge', max_iter=1000,\n",
       "     multi_class='ovr', penalty='l2', random_state=None, tol=0.001,\n",
       "     verbose=0)"
      ]
     },
     "execution_count": 13,
     "metadata": {},
     "output_type": "execute_result"
    }
   ],
   "source": [
    "from sklearn.svm import LinearSVC\n",
    "svc_clf = LinearSVC(penalty = 'l2', dual = False, tol = 1e-3)\n",
    "svc_clf.fit(train_transformed, train_sentiment)\n"
   ]
  },
  {
   "cell_type": "code",
   "execution_count": 14,
   "metadata": {
    "collapsed": false
   },
   "outputs": [
    {
     "name": "stdout",
     "output_type": "stream",
     "text": [
      "Accuracy of the model on the test set - 0.643502\n"
     ]
    }
   ],
   "source": [
    "from sklearn.metrics import accuracy_score\n",
    "print (('Accuracy of the model on the test set - %f')%\n",
    "(accuracy_score(test_sentiment, svc_clf.predict(test_transformed))))\n"
   ]
  }
 ],
 "metadata": {
  "kernelspec": {
   "display_name": "Python 2",
   "language": "python",
   "name": "python2"
  },
  "language_info": {
   "codemirror_mode": {
    "name": "ipython",
    "version": 2
   },
   "file_extension": ".py",
   "mimetype": "text/x-python",
   "name": "python",
   "nbconvert_exporter": "python",
   "pygments_lexer": "ipython2",
   "version": "2.7.9"
  }
 },
 "nbformat": 4,
 "nbformat_minor": 0
}
